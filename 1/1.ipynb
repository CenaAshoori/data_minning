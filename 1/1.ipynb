{
 "cells": [
  {
   "cell_type": "markdown",
   "metadata": {},
   "source": [
    "# Ashoori - 97149068"
   ]
  },
  {
   "cell_type": "code",
   "execution_count": 2,
   "metadata": {},
   "outputs": [],
   "source": [
    "import pandas as pd"
   ]
  },
  {
   "cell_type": "code",
   "execution_count": 41,
   "metadata": {},
   "outputs": [
    {
     "name": "stdout",
     "output_type": "stream",
     "text": [
      "    CourseName  Units  Grades\n",
      "0       os lab      1   16.00\n",
      "1           db      3   16.25\n",
      "2       signal      3   14.50\n",
      "3  network lab      1   18.75\n",
      "4          pld      3   17.00\n",
      "5          mis      3   19.50\n",
      "6       entrep      2   15.00\n",
      "Gpa: 16.65625\n",
      "Courses with grade upper then 12: 7 of 7\n"
     ]
    }
   ],
   "source": [
    "csv = pd.read_csv('grade.csv')\n",
    "print(csv)\n",
    "units = csv['Units'].sum()\n",
    "mean = (csv['Units']*csv['Grades']).sum() / units\n",
    "upper_12 = csv.loc[csv['Grades']>12].__len__()\n",
    "print(f\"\"\"Gpa: {mean}\n",
    "Courses with grade upper then 12: {upper_12} of {csv.__len__()}\"\"\")"
   ]
  }
 ],
 "metadata": {
  "interpreter": {
   "hash": "8cc065bb8a1a68cbd20abb11c6f1da10641f9a3481a734fc181c45edb1c88252"
  },
  "kernelspec": {
   "display_name": "Python 3.9.1 64-bit",
   "language": "python",
   "name": "python3"
  },
  "language_info": {
   "codemirror_mode": {
    "name": "ipython",
    "version": 3
   },
   "file_extension": ".py",
   "mimetype": "text/x-python",
   "name": "python",
   "nbconvert_exporter": "python",
   "pygments_lexer": "ipython3",
   "version": "3.9.1"
  },
  "orig_nbformat": 4
 },
 "nbformat": 4,
 "nbformat_minor": 2
}
