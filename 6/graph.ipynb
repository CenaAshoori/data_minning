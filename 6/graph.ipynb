{
 "cells": [
  {
   "cell_type": "code",
   "execution_count": 2,
   "metadata": {},
   "outputs": [],
   "source": [
    "import networkx as nx"
   ]
  },
  {
   "cell_type": "code",
   "execution_count": 4,
   "metadata": {},
   "outputs": [
    {
     "name": "stdout",
     "output_type": "stream",
     "text": [
      "2\n"
     ]
    },
    {
     "data": {
      "image/png": "[encoded data removed]",
      "text/plain": [
       "<Figure size 432x288 with 1 Axes>"
      ]
     },
     "metadata": {},
     "output_type": "display_data"
    }
   ],
   "source": [
    "e = [ (1,3), (2,4),(0,5),(0,2)]  # list of edges\n",
    "G = nx.Graph(e)\n",
    "visited = [False] * len(G.nodes)\n",
    "visited\n",
    "\n",
    "nx.draw(G, with_labels = True)\n",
    "\n",
    "c = 0\n",
    "index = -1\n",
    "for i in range(len(visited)) :\n",
    "    if visited[i] == False:\n",
    "        visited[i] = True\n",
    "        index = i\n",
    "        G.add_edge(index,index,w = index)\n",
    "        brea\n",
    "        k\n",
    "# G.adj[2][2]['w']\n",
    "while index != -1:\n",
    "    j = 0\n",
    "    while j < len(visited):\n",
    "        if G.has_edge(index,j) and visited[j] == False:\n",
    "            G.add_edge(j,j,w=index)\n",
    "            index = j\n",
    "            visited[index] = True\n",
    "            j = 0\n",
    "        elif j == len(visited)-1:\n",
    "            if G.adj[index][index]['w'] == index:\n",
    "                c += 1\n",
    "                break\n",
    "            index = G.adj[index][index]['w']\n",
    "            j = 0\n",
    "        else:\n",
    "            j += 1\n",
    "    index = -1\n",
    "    for i in range(len(visited)) :\n",
    "        if visited[i] == False:\n",
    "            visited[i] = True\n",
    "            index = i\n",
    "            G.add_edge(index,index,w = index)\n",
    "            # c += 1\n",
    "            break\n",
    "print(c)\n",
    "    \n",
    "\n"
   ]
  }
 ],
 "metadata": {
  "kernelspec": {
   "display_name": "Python 3.9.7 ('base')",
   "language": "python",
   "name": "python3"
  },
  "language_info": {
   "codemirror_mode": {
    "name": "ipython",
    "version": 3
   },
   "file_extension": ".py",
   "mimetype": "text/x-python",
   "name": "python",
   "nbconvert_exporter": "python",
   "pygments_lexer": "ipython3",
   "version": "3.9.7"
  },
  "orig_nbformat": 4,
  "vscode": {
   "interpreter": {
    "hash": "981a068c3610acb4413548f03f3bf99c774b8d3a92250b4c28a67fc7f96081b8"
   }
  }
 },
 "nbformat": 4,
 "nbformat_minor": 2
}
