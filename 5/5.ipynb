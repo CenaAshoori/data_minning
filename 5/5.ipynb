{
 "cells": [
  {
   "cell_type": "markdown",
   "metadata": {},
   "source": [
    "# HW 5\n",
    "# Mohammad Hosein Ashoori - 97149068"
   ]
  },
  {
   "cell_type": "code",
   "execution_count": 121,
   "metadata": {},
   "outputs": [
    {
     "name": "stderr",
     "output_type": "stream",
     "text": [
      "UsageError: Line magic function `%` not found.\n"
     ]
    }
   ],
   "source": [
    "import pandas as pd\n",
    "from sklearn import preprocessing, decomposition\n",
    "from sklearn.model_selection import train_test_split\n",
    "from sklearn.metrics import confusion_matrix, classification_report\n",
    "import scipy.stats as stats\n",
    "import numpy as np\n",
    "import matplotlib\n",
    "import matplotlib.pyplot as plt\n",
    "import seaborn as sns \n",
    "% matplotlib inline\n",
    "matplotlib.style.use('fivethirtyeight')"
   ]
  },
  {
   "cell_type": "code",
   "execution_count": 2,
   "metadata": {},
   "outputs": [],
   "source": [
    "import random \n",
    "from sklearn.cluster import KMeans \n",
    "from sklearn.datasets import make_blobs "
   ]
  },
  {
   "cell_type": "code",
   "execution_count": 66,
   "metadata": {},
   "outputs": [
    {
     "data": {
      "text/html": [
       "<div>\n",
       "<style scoped>\n",
       "    .dataframe tbody tr th:only-of-type {\n",
       "        vertical-align: middle;\n",
       "    }\n",
       "\n",
       "    .dataframe tbody tr th {\n",
       "        vertical-align: top;\n",
       "    }\n",
       "\n",
       "    .dataframe thead th {\n",
       "        text-align: right;\n",
       "    }\n",
       "</style>\n",
       "<table border=\"1\" class=\"dataframe\">\n",
       "  <thead>\n",
       "    <tr style=\"text-align: right;\">\n",
       "      <th></th>\n",
       "      <th>species</th>\n",
       "      <th>island</th>\n",
       "      <th>bill_length_mm</th>\n",
       "      <th>bill_depth_mm</th>\n",
       "      <th>flipper_length_mm</th>\n",
       "      <th>body_mass_g</th>\n",
       "      <th>sex</th>\n",
       "    </tr>\n",
       "  </thead>\n",
       "  <tbody>\n",
       "    <tr>\n",
       "      <th>0</th>\n",
       "      <td>Adelie</td>\n",
       "      <td>Torgersen</td>\n",
       "      <td>39.1</td>\n",
       "      <td>18.7</td>\n",
       "      <td>181.0</td>\n",
       "      <td>3750.0</td>\n",
       "      <td>MALE</td>\n",
       "    </tr>\n",
       "    <tr>\n",
       "      <th>1</th>\n",
       "      <td>Adelie</td>\n",
       "      <td>Torgersen</td>\n",
       "      <td>39.5</td>\n",
       "      <td>17.4</td>\n",
       "      <td>186.0</td>\n",
       "      <td>3800.0</td>\n",
       "      <td>FEMALE</td>\n",
       "    </tr>\n",
       "    <tr>\n",
       "      <th>2</th>\n",
       "      <td>Adelie</td>\n",
       "      <td>Torgersen</td>\n",
       "      <td>40.3</td>\n",
       "      <td>18.0</td>\n",
       "      <td>195.0</td>\n",
       "      <td>3250.0</td>\n",
       "      <td>FEMALE</td>\n",
       "    </tr>\n",
       "    <tr>\n",
       "      <th>3</th>\n",
       "      <td>Adelie</td>\n",
       "      <td>Torgersen</td>\n",
       "      <td>NaN</td>\n",
       "      <td>NaN</td>\n",
       "      <td>NaN</td>\n",
       "      <td>NaN</td>\n",
       "      <td>NaN</td>\n",
       "    </tr>\n",
       "    <tr>\n",
       "      <th>4</th>\n",
       "      <td>Adelie</td>\n",
       "      <td>Torgersen</td>\n",
       "      <td>36.7</td>\n",
       "      <td>19.3</td>\n",
       "      <td>193.0</td>\n",
       "      <td>3450.0</td>\n",
       "      <td>FEMALE</td>\n",
       "    </tr>\n",
       "  </tbody>\n",
       "</table>\n",
       "</div>"
      ],
      "text/plain": [
       "  species     island  bill_length_mm  bill_depth_mm  flipper_length_mm  \\\n",
       "0  Adelie  Torgersen            39.1           18.7              181.0   \n",
       "1  Adelie  Torgersen            39.5           17.4              186.0   \n",
       "2  Adelie  Torgersen            40.3           18.0              195.0   \n",
       "3  Adelie  Torgersen             NaN            NaN                NaN   \n",
       "4  Adelie  Torgersen            36.7           19.3              193.0   \n",
       "\n",
       "   body_mass_g     sex  \n",
       "0       3750.0    MALE  \n",
       "1       3800.0  FEMALE  \n",
       "2       3250.0  FEMALE  \n",
       "3          NaN     NaN  \n",
       "4       3450.0  FEMALE  "
      ]
     },
     "metadata": {},
     "output_type": "display_data"
    },
    {
     "name": "stdout",
     "output_type": "stream",
     "text": [
      "<class 'pandas.core.frame.DataFrame'>\n",
      "RangeIndex: 344 entries, 0 to 343\n",
      "Data columns (total 7 columns):\n",
      " #   Column             Non-Null Count  Dtype  \n",
      "---  ------             --------------  -----  \n",
      " 0   species            344 non-null    object \n",
      " 1   island             344 non-null    object \n",
      " 2   bill_length_mm     342 non-null    float64\n",
      " 3   bill_depth_mm      342 non-null    float64\n",
      " 4   flipper_length_mm  342 non-null    float64\n",
      " 5   body_mass_g        342 non-null    float64\n",
      " 6   sex                333 non-null    object \n",
      "dtypes: float64(4), object(3)\n",
      "memory usage: 18.9+ KB\n"
     ]
    }
   ],
   "source": [
    "penguins = pd.read_csv(\"files/penguins.csv\")\n",
    "display(penguins.head())\n",
    "penguins.info()"
   ]
  },
  {
   "cell_type": "markdown",
   "metadata": {},
   "source": [
    "# 1 - Remove Missing Values"
   ]
  },
  {
   "cell_type": "code",
   "execution_count": 77,
   "metadata": {},
   "outputs": [
    {
     "name": "stdout",
     "output_type": "stream",
     "text": [
      "<class 'pandas.core.frame.DataFrame'>\n",
      "Int64Index: 333 entries, 0 to 343\n",
      "Data columns (total 7 columns):\n",
      " #   Column             Non-Null Count  Dtype  \n",
      "---  ------             --------------  -----  \n",
      " 0   species            333 non-null    object \n",
      " 1   island             333 non-null    object \n",
      " 2   bill_length_mm     333 non-null    float64\n",
      " 3   bill_depth_mm      333 non-null    float64\n",
      " 4   flipper_length_mm  333 non-null    float64\n",
      " 5   body_mass_g        333 non-null    float64\n",
      " 6   sex                333 non-null    object \n",
      "dtypes: float64(4), object(3)\n",
      "memory usage: 20.8+ KB\n"
     ]
    }
   ],
   "source": [
    "penguins_nonNull = penguins.dropna()\n",
    "penguins_nonNull.info()"
   ]
  },
  {
   "cell_type": "markdown",
   "metadata": {},
   "source": [
    "# 3 - Normalization on data"
   ]
  },
  {
   "cell_type": "code",
   "execution_count": 98,
   "metadata": {},
   "outputs": [
    {
     "data": {
      "text/html": [
       "<div>\n",
       "<style scoped>\n",
       "    .dataframe tbody tr th:only-of-type {\n",
       "        vertical-align: middle;\n",
       "    }\n",
       "\n",
       "    .dataframe tbody tr th {\n",
       "        vertical-align: top;\n",
       "    }\n",
       "\n",
       "    .dataframe thead th {\n",
       "        text-align: right;\n",
       "    }\n",
       "</style>\n",
       "<table border=\"1\" class=\"dataframe\">\n",
       "  <thead>\n",
       "    <tr style=\"text-align: right;\">\n",
       "      <th></th>\n",
       "      <th>normal_sex</th>\n",
       "      <th>normal_island</th>\n",
       "      <th>normal_species</th>\n",
       "      <th>bill_length_mm</th>\n",
       "      <th>bill_depth_mm</th>\n",
       "      <th>flipper_length_mm</th>\n",
       "      <th>body_mass_g</th>\n",
       "    </tr>\n",
       "  </thead>\n",
       "  <tbody>\n",
       "    <tr>\n",
       "      <th>0</th>\n",
       "      <td>1.0</td>\n",
       "      <td>2.0</td>\n",
       "      <td>0.0</td>\n",
       "      <td>-0.896042</td>\n",
       "      <td>0.780732</td>\n",
       "      <td>-1.426752</td>\n",
       "      <td>-0.568475</td>\n",
       "    </tr>\n",
       "    <tr>\n",
       "      <th>1</th>\n",
       "      <td>0.0</td>\n",
       "      <td>2.0</td>\n",
       "      <td>0.0</td>\n",
       "      <td>-0.822788</td>\n",
       "      <td>0.119584</td>\n",
       "      <td>-1.069474</td>\n",
       "      <td>-0.506286</td>\n",
       "    </tr>\n",
       "    <tr>\n",
       "      <th>2</th>\n",
       "      <td>0.0</td>\n",
       "      <td>2.0</td>\n",
       "      <td>0.0</td>\n",
       "      <td>-0.676280</td>\n",
       "      <td>0.424729</td>\n",
       "      <td>-0.426373</td>\n",
       "      <td>-1.190361</td>\n",
       "    </tr>\n",
       "    <tr>\n",
       "      <th>4</th>\n",
       "      <td>0.0</td>\n",
       "      <td>2.0</td>\n",
       "      <td>0.0</td>\n",
       "      <td>-1.335566</td>\n",
       "      <td>1.085877</td>\n",
       "      <td>-0.569284</td>\n",
       "      <td>-0.941606</td>\n",
       "    </tr>\n",
       "    <tr>\n",
       "      <th>5</th>\n",
       "      <td>1.0</td>\n",
       "      <td>2.0</td>\n",
       "      <td>0.0</td>\n",
       "      <td>-0.859415</td>\n",
       "      <td>1.747026</td>\n",
       "      <td>-0.783651</td>\n",
       "      <td>-0.692852</td>\n",
       "    </tr>\n",
       "    <tr>\n",
       "      <th>6</th>\n",
       "      <td>0.0</td>\n",
       "      <td>2.0</td>\n",
       "      <td>0.0</td>\n",
       "      <td>-0.932669</td>\n",
       "      <td>0.323014</td>\n",
       "      <td>-1.426752</td>\n",
       "      <td>-0.723946</td>\n",
       "    </tr>\n",
       "    <tr>\n",
       "      <th>7</th>\n",
       "      <td>1.0</td>\n",
       "      <td>2.0</td>\n",
       "      <td>0.0</td>\n",
       "      <td>-0.877728</td>\n",
       "      <td>1.238450</td>\n",
       "      <td>-0.426373</td>\n",
       "      <td>0.582014</td>\n",
       "    </tr>\n",
       "    <tr>\n",
       "      <th>12</th>\n",
       "      <td>0.0</td>\n",
       "      <td>2.0</td>\n",
       "      <td>0.0</td>\n",
       "      <td>-0.529772</td>\n",
       "      <td>0.221299</td>\n",
       "      <td>-1.355296</td>\n",
       "      <td>-1.252549</td>\n",
       "    </tr>\n",
       "    <tr>\n",
       "      <th>13</th>\n",
       "      <td>1.0</td>\n",
       "      <td>2.0</td>\n",
       "      <td>0.0</td>\n",
       "      <td>-0.987609</td>\n",
       "      <td>2.052171</td>\n",
       "      <td>-0.712196</td>\n",
       "      <td>-0.506286</td>\n",
       "    </tr>\n",
       "    <tr>\n",
       "      <th>14</th>\n",
       "      <td>1.0</td>\n",
       "      <td>2.0</td>\n",
       "      <td>0.0</td>\n",
       "      <td>-1.720150</td>\n",
       "      <td>2.001313</td>\n",
       "      <td>-0.212006</td>\n",
       "      <td>0.239977</td>\n",
       "    </tr>\n",
       "  </tbody>\n",
       "</table>\n",
       "</div>"
      ],
      "text/plain": [
       "    normal_sex  normal_island  normal_species  bill_length_mm  bill_depth_mm  \\\n",
       "0          1.0            2.0             0.0       -0.896042       0.780732   \n",
       "1          0.0            2.0             0.0       -0.822788       0.119584   \n",
       "2          0.0            2.0             0.0       -0.676280       0.424729   \n",
       "4          0.0            2.0             0.0       -1.335566       1.085877   \n",
       "5          1.0            2.0             0.0       -0.859415       1.747026   \n",
       "6          0.0            2.0             0.0       -0.932669       0.323014   \n",
       "7          1.0            2.0             0.0       -0.877728       1.238450   \n",
       "12         0.0            2.0             0.0       -0.529772       0.221299   \n",
       "13         1.0            2.0             0.0       -0.987609       2.052171   \n",
       "14         1.0            2.0             0.0       -1.720150       2.001313   \n",
       "\n",
       "    flipper_length_mm  body_mass_g  \n",
       "0           -1.426752    -0.568475  \n",
       "1           -1.069474    -0.506286  \n",
       "2           -0.426373    -1.190361  \n",
       "4           -0.569284    -0.941606  \n",
       "5           -0.783651    -0.692852  \n",
       "6           -1.426752    -0.723946  \n",
       "7           -0.426373     0.582014  \n",
       "12          -1.355296    -1.252549  \n",
       "13          -0.712196    -0.506286  \n",
       "14          -0.212006     0.239977  "
      ]
     },
     "execution_count": 98,
     "metadata": {},
     "output_type": "execute_result"
    }
   ],
   "source": [
    "penguins_nonNull_normal= penguins_nonNull[:]\n",
    "# penguins_nonNull_normal[['bill_length_mm','bill_depth_mm','flipper_length_mm','body_mass_g']].apply(stats.zscore)\n",
    "penguins_nonNull_normal = pd.concat([\n",
    "    penguins_nonNull_normal.select_dtypes(include=[np.number]).apply(stats.zscore),\n",
    "    penguins_nonNull[['species','island','sex']]],axis=1)\n",
    "\n",
    "encoder = preprocessing.OrdinalEncoder()\n",
    "penguins_nonNull_normal.insert( 0, 'normal_species' ,encoder.fit_transform(penguins_nonNull_normal[['species']]))\n",
    "penguins_nonNull_normal.insert( 0, 'normal_island' ,encoder.fit_transform(penguins_nonNull_normal[['island']]))\n",
    "penguins_nonNull_normal.insert( 0, 'normal_sex' ,encoder.fit_transform(penguins_nonNull_normal[['sex']]))\n",
    "penguins_nonNull_normal=penguins_nonNull_normal.drop(['species','island','sex'],axis=1)\n",
    "\n",
    "penguins_nonNull_normal.head(10)"
   ]
  },
  {
   "cell_type": "markdown",
   "metadata": {},
   "source": [
    "# 2 - Split data to test and train"
   ]
  },
  {
   "cell_type": "code",
   "execution_count": 99,
   "metadata": {},
   "outputs": [
    {
     "data": {
      "text/plain": [
       "'Train'"
      ]
     },
     "metadata": {},
     "output_type": "display_data"
    },
    {
     "data": {
      "text/html": [
       "<div>\n",
       "<style scoped>\n",
       "    .dataframe tbody tr th:only-of-type {\n",
       "        vertical-align: middle;\n",
       "    }\n",
       "\n",
       "    .dataframe tbody tr th {\n",
       "        vertical-align: top;\n",
       "    }\n",
       "\n",
       "    .dataframe thead th {\n",
       "        text-align: right;\n",
       "    }\n",
       "</style>\n",
       "<table border=\"1\" class=\"dataframe\">\n",
       "  <thead>\n",
       "    <tr style=\"text-align: right;\">\n",
       "      <th></th>\n",
       "      <th>normal_sex</th>\n",
       "      <th>normal_island</th>\n",
       "      <th>normal_species</th>\n",
       "      <th>bill_length_mm</th>\n",
       "      <th>bill_depth_mm</th>\n",
       "      <th>flipper_length_mm</th>\n",
       "      <th>body_mass_g</th>\n",
       "    </tr>\n",
       "  </thead>\n",
       "  <tbody>\n",
       "    <tr>\n",
       "      <th>114</th>\n",
       "      <td>0.0</td>\n",
       "      <td>0.0</td>\n",
       "      <td>0.0</td>\n",
       "      <td>-0.804474</td>\n",
       "      <td>1.797883</td>\n",
       "      <td>-0.712196</td>\n",
       "      <td>-0.381909</td>\n",
       "    </tr>\n",
       "    <tr>\n",
       "      <th>46</th>\n",
       "      <td>1.0</td>\n",
       "      <td>1.0</td>\n",
       "      <td>0.0</td>\n",
       "      <td>-0.529772</td>\n",
       "      <td>0.933305</td>\n",
       "      <td>-1.355296</td>\n",
       "      <td>-0.972701</td>\n",
       "    </tr>\n",
       "    <tr>\n",
       "      <th>24</th>\n",
       "      <td>1.0</td>\n",
       "      <td>0.0</td>\n",
       "      <td>0.0</td>\n",
       "      <td>-0.950982</td>\n",
       "      <td>0.017869</td>\n",
       "      <td>-1.498207</td>\n",
       "      <td>-0.506286</td>\n",
       "    </tr>\n",
       "    <tr>\n",
       "      <th>92</th>\n",
       "      <td>0.0</td>\n",
       "      <td>1.0</td>\n",
       "      <td>0.0</td>\n",
       "      <td>-1.830031</td>\n",
       "      <td>-0.032989</td>\n",
       "      <td>-1.140929</td>\n",
       "      <td>-1.003795</td>\n",
       "    </tr>\n",
       "    <tr>\n",
       "      <th>158</th>\n",
       "      <td>0.0</td>\n",
       "      <td>1.0</td>\n",
       "      <td>1.0</td>\n",
       "      <td>0.385904</td>\n",
       "      <td>0.526444</td>\n",
       "      <td>-1.641118</td>\n",
       "      <td>-1.190361</td>\n",
       "    </tr>\n",
       "    <tr>\n",
       "      <th>...</th>\n",
       "      <td>...</td>\n",
       "      <td>...</td>\n",
       "      <td>...</td>\n",
       "      <td>...</td>\n",
       "      <td>...</td>\n",
       "      <td>...</td>\n",
       "      <td>...</td>\n",
       "    </tr>\n",
       "    <tr>\n",
       "      <th>86</th>\n",
       "      <td>1.0</td>\n",
       "      <td>1.0</td>\n",
       "      <td>0.0</td>\n",
       "      <td>-1.408820</td>\n",
       "      <td>1.187592</td>\n",
       "      <td>-0.783651</td>\n",
       "      <td>-0.506286</td>\n",
       "    </tr>\n",
       "    <tr>\n",
       "      <th>149</th>\n",
       "      <td>1.0</td>\n",
       "      <td>1.0</td>\n",
       "      <td>0.0</td>\n",
       "      <td>-1.134117</td>\n",
       "      <td>0.475587</td>\n",
       "      <td>-0.569284</td>\n",
       "      <td>-0.568475</td>\n",
       "    </tr>\n",
       "    <tr>\n",
       "      <th>322</th>\n",
       "      <td>0.0</td>\n",
       "      <td>0.0</td>\n",
       "      <td>2.0</td>\n",
       "      <td>0.587352</td>\n",
       "      <td>-0.846709</td>\n",
       "      <td>1.002739</td>\n",
       "      <td>0.955146</td>\n",
       "    </tr>\n",
       "    <tr>\n",
       "      <th>330</th>\n",
       "      <td>0.0</td>\n",
       "      <td>0.0</td>\n",
       "      <td>2.0</td>\n",
       "      <td>1.191698</td>\n",
       "      <td>-0.999282</td>\n",
       "      <td>1.074194</td>\n",
       "      <td>0.986240</td>\n",
       "    </tr>\n",
       "    <tr>\n",
       "      <th>231</th>\n",
       "      <td>1.0</td>\n",
       "      <td>0.0</td>\n",
       "      <td>2.0</td>\n",
       "      <td>0.916995</td>\n",
       "      <td>-0.541564</td>\n",
       "      <td>1.074194</td>\n",
       "      <td>1.670315</td>\n",
       "    </tr>\n",
       "  </tbody>\n",
       "</table>\n",
       "<p>266 rows × 7 columns</p>\n",
       "</div>"
      ],
      "text/plain": [
       "     normal_sex  normal_island  normal_species  bill_length_mm  bill_depth_mm  \\\n",
       "114         0.0            0.0             0.0       -0.804474       1.797883   \n",
       "46          1.0            1.0             0.0       -0.529772       0.933305   \n",
       "24          1.0            0.0             0.0       -0.950982       0.017869   \n",
       "92          0.0            1.0             0.0       -1.830031      -0.032989   \n",
       "158         0.0            1.0             1.0        0.385904       0.526444   \n",
       "..          ...            ...             ...             ...            ...   \n",
       "86          1.0            1.0             0.0       -1.408820       1.187592   \n",
       "149         1.0            1.0             0.0       -1.134117       0.475587   \n",
       "322         0.0            0.0             2.0        0.587352      -0.846709   \n",
       "330         0.0            0.0             2.0        1.191698      -0.999282   \n",
       "231         1.0            0.0             2.0        0.916995      -0.541564   \n",
       "\n",
       "     flipper_length_mm  body_mass_g  \n",
       "114          -0.712196    -0.381909  \n",
       "46           -1.355296    -0.972701  \n",
       "24           -1.498207    -0.506286  \n",
       "92           -1.140929    -1.003795  \n",
       "158          -1.641118    -1.190361  \n",
       "..                 ...          ...  \n",
       "86           -0.783651    -0.506286  \n",
       "149          -0.569284    -0.568475  \n",
       "322           1.002739     0.955146  \n",
       "330           1.074194     0.986240  \n",
       "231           1.074194     1.670315  \n",
       "\n",
       "[266 rows x 7 columns]"
      ]
     },
     "metadata": {},
     "output_type": "display_data"
    },
    {
     "data": {
      "text/plain": [
       "'Test'"
      ]
     },
     "metadata": {},
     "output_type": "display_data"
    },
    {
     "data": {
      "text/html": [
       "<div>\n",
       "<style scoped>\n",
       "    .dataframe tbody tr th:only-of-type {\n",
       "        vertical-align: middle;\n",
       "    }\n",
       "\n",
       "    .dataframe tbody tr th {\n",
       "        vertical-align: top;\n",
       "    }\n",
       "\n",
       "    .dataframe thead th {\n",
       "        text-align: right;\n",
       "    }\n",
       "</style>\n",
       "<table border=\"1\" class=\"dataframe\">\n",
       "  <thead>\n",
       "    <tr style=\"text-align: right;\">\n",
       "      <th></th>\n",
       "      <th>normal_sex</th>\n",
       "      <th>normal_island</th>\n",
       "      <th>normal_species</th>\n",
       "      <th>bill_length_mm</th>\n",
       "      <th>bill_depth_mm</th>\n",
       "      <th>flipper_length_mm</th>\n",
       "      <th>body_mass_g</th>\n",
       "    </tr>\n",
       "  </thead>\n",
       "  <tbody>\n",
       "    <tr>\n",
       "      <th>217</th>\n",
       "      <td>1.0</td>\n",
       "      <td>1.0</td>\n",
       "      <td>1.0</td>\n",
       "      <td>1.026876</td>\n",
       "      <td>0.526444</td>\n",
       "      <td>-0.569284</td>\n",
       "      <td>-0.537380</td>\n",
       "    </tr>\n",
       "    <tr>\n",
       "      <th>139</th>\n",
       "      <td>1.0</td>\n",
       "      <td>1.0</td>\n",
       "      <td>0.0</td>\n",
       "      <td>-0.786161</td>\n",
       "      <td>0.373872</td>\n",
       "      <td>-0.569284</td>\n",
       "      <td>0.053411</td>\n",
       "    </tr>\n",
       "    <tr>\n",
       "      <th>194</th>\n",
       "      <td>1.0</td>\n",
       "      <td>1.0</td>\n",
       "      <td>1.0</td>\n",
       "      <td>1.264952</td>\n",
       "      <td>0.984162</td>\n",
       "      <td>-0.354918</td>\n",
       "      <td>-0.817229</td>\n",
       "    </tr>\n",
       "    <tr>\n",
       "      <th>283</th>\n",
       "      <td>1.0</td>\n",
       "      <td>0.0</td>\n",
       "      <td>2.0</td>\n",
       "      <td>1.887611</td>\n",
       "      <td>-0.744994</td>\n",
       "      <td>2.146028</td>\n",
       "      <td>1.794692</td>\n",
       "    </tr>\n",
       "    <tr>\n",
       "      <th>48</th>\n",
       "      <td>0.0</td>\n",
       "      <td>1.0</td>\n",
       "      <td>0.0</td>\n",
       "      <td>-1.463761</td>\n",
       "      <td>0.373872</td>\n",
       "      <td>-0.783651</td>\n",
       "      <td>-0.941606</td>\n",
       "    </tr>\n",
       "    <tr>\n",
       "      <th>...</th>\n",
       "      <td>...</td>\n",
       "      <td>...</td>\n",
       "      <td>...</td>\n",
       "      <td>...</td>\n",
       "      <td>...</td>\n",
       "      <td>...</td>\n",
       "      <td>...</td>\n",
       "    </tr>\n",
       "    <tr>\n",
       "      <th>309</th>\n",
       "      <td>1.0</td>\n",
       "      <td>0.0</td>\n",
       "      <td>2.0</td>\n",
       "      <td>1.484714</td>\n",
       "      <td>-0.083846</td>\n",
       "      <td>2.074573</td>\n",
       "      <td>1.670315</td>\n",
       "    </tr>\n",
       "    <tr>\n",
       "      <th>132</th>\n",
       "      <td>0.0</td>\n",
       "      <td>1.0</td>\n",
       "      <td>0.0</td>\n",
       "      <td>-1.317253</td>\n",
       "      <td>0.679017</td>\n",
       "      <td>-0.569284</td>\n",
       "      <td>-0.879418</td>\n",
       "    </tr>\n",
       "    <tr>\n",
       "      <th>173</th>\n",
       "      <td>1.0</td>\n",
       "      <td>1.0</td>\n",
       "      <td>1.0</td>\n",
       "      <td>0.825428</td>\n",
       "      <td>0.170442</td>\n",
       "      <td>-0.712196</td>\n",
       "      <td>-1.003795</td>\n",
       "    </tr>\n",
       "    <tr>\n",
       "      <th>227</th>\n",
       "      <td>1.0</td>\n",
       "      <td>0.0</td>\n",
       "      <td>2.0</td>\n",
       "      <td>0.495785</td>\n",
       "      <td>-0.948425</td>\n",
       "      <td>1.288561</td>\n",
       "      <td>1.234995</td>\n",
       "    </tr>\n",
       "    <tr>\n",
       "      <th>122</th>\n",
       "      <td>0.0</td>\n",
       "      <td>2.0</td>\n",
       "      <td>0.0</td>\n",
       "      <td>-0.694593</td>\n",
       "      <td>-0.083846</td>\n",
       "      <td>-1.784030</td>\n",
       "      <td>-0.941606</td>\n",
       "    </tr>\n",
       "  </tbody>\n",
       "</table>\n",
       "<p>67 rows × 7 columns</p>\n",
       "</div>"
      ],
      "text/plain": [
       "     normal_sex  normal_island  normal_species  bill_length_mm  bill_depth_mm  \\\n",
       "217         1.0            1.0             1.0        1.026876       0.526444   \n",
       "139         1.0            1.0             0.0       -0.786161       0.373872   \n",
       "194         1.0            1.0             1.0        1.264952       0.984162   \n",
       "283         1.0            0.0             2.0        1.887611      -0.744994   \n",
       "48          0.0            1.0             0.0       -1.463761       0.373872   \n",
       "..          ...            ...             ...             ...            ...   \n",
       "309         1.0            0.0             2.0        1.484714      -0.083846   \n",
       "132         0.0            1.0             0.0       -1.317253       0.679017   \n",
       "173         1.0            1.0             1.0        0.825428       0.170442   \n",
       "227         1.0            0.0             2.0        0.495785      -0.948425   \n",
       "122         0.0            2.0             0.0       -0.694593      -0.083846   \n",
       "\n",
       "     flipper_length_mm  body_mass_g  \n",
       "217          -0.569284    -0.537380  \n",
       "139          -0.569284     0.053411  \n",
       "194          -0.354918    -0.817229  \n",
       "283           2.146028     1.794692  \n",
       "48           -0.783651    -0.941606  \n",
       "..                 ...          ...  \n",
       "309           2.074573     1.670315  \n",
       "132          -0.569284    -0.879418  \n",
       "173          -0.712196    -1.003795  \n",
       "227           1.288561     1.234995  \n",
       "122          -1.784030    -0.941606  \n",
       "\n",
       "[67 rows x 7 columns]"
      ]
     },
     "metadata": {},
     "output_type": "display_data"
    }
   ],
   "source": [
    "X_train, X_test = train_test_split(penguins_nonNull_normal, test_size=.2,shuffle=True)\n",
    "display(\"Train\")\n",
    "display(X_train)\n",
    "display(\"Test\")\n",
    "display(X_test)"
   ]
  },
  {
   "cell_type": "markdown",
   "metadata": {},
   "source": [
    "# 4 - KNN with K==5"
   ]
  },
  {
   "cell_type": "code",
   "execution_count": 62,
   "metadata": {},
   "outputs": [],
   "source": [
    "from sklearn.neighbors import KNeighborsClassifier "
   ]
  },
  {
   "cell_type": "code",
   "execution_count": 100,
   "metadata": {},
   "outputs": [
    {
     "name": "stderr",
     "output_type": "stream",
     "text": [
      "c:\\Users\\Cena\\miniconda3\\lib\\site-packages\\sklearn\\neighbors\\_classification.py:198: DataConversionWarning: A column-vector y was passed when a 1d array was expected. Please change the shape of y to (n_samples,), for example using ravel().\n",
      "  return self._fit(X, y)\n"
     ]
    },
    {
     "data": {
      "text/plain": [
       "KNeighborsClassifier()"
      ]
     },
     "execution_count": 100,
     "metadata": {},
     "output_type": "execute_result"
    }
   ],
   "source": [
    "classifier = KNeighborsClassifier(n_neighbors=5)\n",
    "classifier.fit(\n",
    "        X_train.loc[:, X_train.columns!='normal_species'],\n",
    "        X_train[['normal_species']])\n",
    "\n"
   ]
  },
  {
   "cell_type": "markdown",
   "metadata": {},
   "source": [
    "# 5 - Confusion Matrix"
   ]
  },
  {
   "cell_type": "code",
   "execution_count": 118,
   "metadata": {},
   "outputs": [
    {
     "data": {
      "text/plain": [
       "<AxesSubplot:>"
      ]
     },
     "execution_count": 118,
     "metadata": {},
     "output_type": "execute_result"
    },
    {
     "data": {
      "image/png": "[encoded data removed]",
      "text/plain": [
       "<Figure size 432x288 with 2 Axes>"
      ]
     },
     "metadata": {
      "needs_background": "light"
     },
     "output_type": "display_data"
    }
   ],
   "source": [
    "test = classifier.predict(X_test.loc[:, X_train.columns!='normal_species'])\n",
    "result = confusion_matrix(X_test[['normal_species']],test)\n",
    "sns.heatmap(result, vmin=0, vmax=1)\n"
   ]
  },
  {
   "cell_type": "markdown",
   "metadata": {},
   "source": [
    "# 6 - Test for K from 1 to 40"
   ]
  },
  {
   "cell_type": "code",
   "execution_count": null,
   "metadata": {},
   "outputs": [],
   "source": [
    "dic = {}\n",
    "# for k in range (1):\n",
    "classifier = KNeighborsClassifier(n_neighbors=1)\n",
    "classifier.fit(\n",
    "    X_train.loc[:, X_train.columns!='normal_species'],\n",
    "    X_train[['normal_species']])\n",
    "test = classifier.predict(X_test.loc[:, X_train.columns!='normal_species'])\n",
    "result = classification_report(X_test[['normal_species']],test)\n",
    "\n",
    "error = []\n",
    "\n",
    "# Calculating error for K values between 1 and 40\n",
    "for i in range(1, 40):\n",
    "    knn = KNeighborsClassifier(n_neighbors=i)\n",
    "    knn.fit(\n",
    "        X_train.loc[:, X_train.columns!='normal_species'],\n",
    "        X_train[['normal_species']])\n",
    "        \n",
    "    pred_i = knn.predict(X_test.loc[:, X_train.columns!='normal_species'])\n",
    "    error.append(np.mean(pred_i != X_test['normal_species']))"
   ]
  },
  {
   "cell_type": "code",
   "execution_count": 140,
   "metadata": {},
   "outputs": [
    {
     "data": {
      "text/plain": [
       "Text(0, 0.5, 'Mean Error')"
      ]
     },
     "execution_count": 140,
     "metadata": {},
     "output_type": "execute_result"
    },
    {
     "data": {
      "image/png": "[encoded data removed]",
      "text/plain": [
       "<Figure size 864x432 with 1 Axes>"
      ]
     },
     "metadata": {
      "needs_background": "light"
     },
     "output_type": "display_data"
    }
   ],
   "source": [
    "plt.figure(figsize=(12, 6))\n",
    "plt.plot(range(1, 40), error, color='red', linestyle='dashed', marker='o',\n",
    "         markerfacecolor='blue', markersize=10)\n",
    "plt.title('Error Rate K Value')\n",
    "plt.xlabel('K Value')\n",
    "plt.ylabel('Mean Error')"
   ]
  },
  {
   "cell_type": "markdown",
   "metadata": {},
   "source": [
    "# 2 - 1"
   ]
  },
  {
   "cell_type": "markdown",
   "metadata": {},
   "source": [
    "# Tap on [This](https://medium.com/secure-and-private-ai-math-blogging-competition/spam-detection-and-filtering-with-naive-bayes-algorithm-f6c2ac181174)  Link"
   ]
  }
 ],
 "metadata": {
  "interpreter": {
   "hash": "981a068c3610acb4413548f03f3bf99c774b8d3a92250b4c28a67fc7f96081b8"
  },
  "kernelspec": {
   "display_name": "Python 3.9.7 ('base')",
   "language": "python",
   "name": "python3"
  },
  "language_info": {
   "codemirror_mode": {
    "name": "ipython",
    "version": 3
   },
   "file_extension": ".py",
   "mimetype": "text/x-python",
   "name": "python",
   "nbconvert_exporter": "python",
   "pygments_lexer": "ipython3",
   "version": "3.9.7"
  },
  "orig_nbformat": 4,
  "vscode": {
   "interpreter": {
    "hash": "981a068c3610acb4413548f03f3bf99c774b8d3a92250b4c28a67fc7f96081b8"
   }
  }
 },
 "nbformat": 4,
 "nbformat_minor": 2
}
